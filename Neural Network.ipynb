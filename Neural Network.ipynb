{
 "cells": [
  {
   "cell_type": "markdown",
   "metadata": {},
   "source": [
    "### Neural network (Structure)\n",
    "\n",
    "Plain vanilla (aka \"multiplayer perception\")\n",
    "\n",
    "![](images/neural_network_structure1.png)\n",
    "\n",
    "\n",
    "*__Neuron__*: Thing that holds a number (0 -> 1)\n",
    "\n",
    "*__Activation__*: The number inside the neuron\n",
    "\n",
    "![](images/neural_network_activation.png)\n",
    "\n",
    "Those 784 neurons represents the *__first layer__*\n",
    "\n",
    "![](images/neural_network_layer_last.png)\n",
    "\n",
    "Those 10 digits represents the *__last layer__*\n",
    "\n",
    "![](images/neural_network_concept_1.png)\n",
    "![](images/neural_network_concept_2.png)\n",
    "![](images/neural_network_concept_3.png)\n",
    "\n",
    "Want to fit numbers between 0-1 (signoid)  \n",
    "\n",
    "![](images/neural_network_concept_4.png)\n",
    "![](images/neural_network_concept_5.png)\n",
    "![](images/neural_network_concept_6.png)\n",
    "\n",
    "\n",
    "*__Bias__*: How hight high the weighted sum needs to be beore the neuron starts getting meaningfully active\n",
    "![](images/neural_network_concept_7.png)\n",
    "\n",
    "![](images/neural_network_learning_1.png)\n",
    "\n",
    "*__Learning__*: Getting the computer to find a valid setting for all of these many many numbers so that it'll actually solve the problem at hand.\n",
    "\n",
    "![](images/neural_network_computing.png)\n",
    "\n",
    "You can represent the transition between one layer to the other in a little tiny expression\n",
    "\n",
    "![](images/neural_network_computing_layer_transition.png)\n",
    "\n"
   ]
  },
  {
   "cell_type": "code",
   "execution_count": null,
   "metadata": {},
   "outputs": [],
   "source": []
  }
 ],
 "metadata": {
  "kernelspec": {
   "display_name": "Python 3",
   "language": "python",
   "name": "python3"
  },
  "language_info": {
   "codemirror_mode": {
    "name": "ipython",
    "version": 3
   },
   "file_extension": ".py",
   "mimetype": "text/x-python",
   "name": "python",
   "nbconvert_exporter": "python",
   "pygments_lexer": "ipython3",
   "version": "3.7.2"
  }
 },
 "nbformat": 4,
 "nbformat_minor": 2
}

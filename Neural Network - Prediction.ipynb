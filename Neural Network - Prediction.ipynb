{
 "cells": [
  {
   "cell_type": "markdown",
   "metadata": {},
   "source": [
    " ### Linear Boundaries\n",
    " \n",
    " #### Prediction model (Single dimension)\n",
    " \n",
    " ![](images/nn_linear_boundaries.png)\n",
    " \n",
    " *__Model__*: \n",
    " ![](images/nn_linear_boundaries_prediction.png)\n",
    " \n",
    " #### Prediction model (multiple dimensions)\n",
    " \n",
    " ![](images/nn_linear_boundaries_prediction_multiple.png)\n",
    " \n",
    " ### Perceptron\n",
    " \n",
    " Building block for Neural networks\n",
    " \n",
    " ![](images/nn_perceptron_1.png)\n",
    " ![](images/nn_perceptron_2.png)\n",
    " ![](images/nn_perceptron_3.png)\n",
    " ![](images/nn_perceptron_4.png)\n",
    " ![](images/nn_perceptron_5.png)\n",
    " \n",
    " "
   ]
  },
  {
   "cell_type": "markdown",
   "metadata": {},
   "source": []
  }
 ],
 "metadata": {
  "kernelspec": {
   "display_name": "Python 3",
   "language": "python",
   "name": "python3"
  },
  "language_info": {
   "codemirror_mode": {
    "name": "ipython",
    "version": 3
   },
   "file_extension": ".py",
   "mimetype": "text/x-python",
   "name": "python",
   "nbconvert_exporter": "python",
   "pygments_lexer": "ipython3",
   "version": "3.7.2"
  }
 },
 "nbformat": 4,
 "nbformat_minor": 2
}

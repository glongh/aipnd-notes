{
 "cells": [
  {
   "cell_type": "markdown",
   "metadata": {},
   "source": [
    "## Summary: Plot types \n",
    " Visualize and identify the relationships between variables in yout data"
   ]
  },
  {
   "cell_type": "markdown",
   "metadata": {},
   "source": [
    "### Plot types\n",
    "__Scatterplots__\n",
    "Show the relationship between two quantitative variables.\n",
    "\n",
    "__Clusterd bar charts__\n",
    "Show the relationship between two qualitative variables.\n",
    "\n",
    "__Heat maps__\n",
    "Can be used as 2D histograms and bar charts\n",
    "\n",
    "__Violin and box plots__\n",
    "Are the primary plot types used to show the relationship between one quantitative and one qualitative variable.\n",
    "\n",
    "Violin plots depicted distributions as density curves, while box plots took a more summary approach, plotting the quantiles as boxes with whiskers\n",
    "\n",
    "Techniques to adapt univariate plots to bivariate data letting you inspect data at different levels of complexity:\n",
    "\n",
    "__Faceting__\n",
    "Faceting multiple univariate plots acress subsets of a second variable as well as using a second variable mean instead of count\n",
    "\n",
    "__Bar chars and line plots__\n",
    "Line plots can show you changes in value across time.\n"
   ]
  },
  {
   "cell_type": "code",
   "execution_count": null,
   "metadata": {},
   "outputs": [],
   "source": []
  }
 ],
 "metadata": {
  "kernelspec": {
   "display_name": "Python 3",
   "language": "python",
   "name": "python3"
  },
  "language_info": {
   "codemirror_mode": {
    "name": "ipython",
    "version": 3
   },
   "file_extension": ".py",
   "mimetype": "text/x-python",
   "name": "python",
   "nbconvert_exporter": "python",
   "pygments_lexer": "ipython3",
   "version": "3.7.2"
  }
 },
 "nbformat": 4,
 "nbformat_minor": 2
}

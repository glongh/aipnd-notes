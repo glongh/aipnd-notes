{
 "cells": [
  {
   "cell_type": "markdown",
   "metadata": {},
   "source": [
    "## Scales and Transformation"
   ]
  },
  {
   "cell_type": "code",
   "execution_count": 9,
   "metadata": {},
   "outputs": [],
   "source": [
    "import numpy as np\n",
    "import pandas as pd\n",
    "import matplotlib.pyplot as plt\n",
    "import seaborn as sb\n",
    "\n",
    "%matplotlib inline\n",
    "\n",
    "pokemon = pd.read_csv('data/pokemon.csv')"
   ]
  },
  {
   "cell_type": "markdown",
   "metadata": {},
   "source": [
    "Certain data distributions will find themselves amenable to scale transformations. The most common example of this is data that follows an approximately log-normal distribution. This is data that, in their natural units, can look highly skewed: lots of points with low values, with a very long tail of data points with large values."
   ]
  },
  {
   "cell_type": "code",
   "execution_count": 22,
   "metadata": {},
   "outputs": [
    {
     "data": {
      "text/plain": [
       "Text(0.5,0,'log(values)')"
      ]
     },
     "execution_count": 22,
     "metadata": {},
     "output_type": "execute_result"
    },
    {
     "data": {
      "image/png": "[encoded data removed]",
      "text/plain": [
       "<Figure size 720x360 with 2 Axes>"
      ]
     },
     "metadata": {
      "needs_background": "light"
     },
     "output_type": "display_data"
    }
   ],
   "source": [
    "plt.figure(figsize = [10, 5])\n",
    "\n",
    "# left histogram: data plotted in natural units\n",
    "plt.subplot(1,2,1)\n",
    "bin_edges = np.arange(0, pokemon['weight'].max()+100, 100)\n",
    "plt.hist(data = pokemon, x = 'weight', bins = bin_edges)\n",
    "plt.xlabel('values')\n",
    "\n",
    "# right histogram: data plotted adter direct log transformation\n",
    "plt.subplot(1, 2, 2)\n",
    "log_data = np.log10(pokemon['weight']) # direct data transform\n",
    "log_bin_edges = np.arange(0.8, log_data.max()+0.1, 0.1)\n",
    "plt.hist(log_data, bins = log_bin_edges)\n",
    "plt.xlabel('log(values)')"
   ]
  },
  {
   "cell_type": "markdown",
   "metadata": {},
   "source": [
    "In the plot on the left, the few data points with value above 1000 mash the majority of the points into the bins on the far left. With the plot on the right, the logarithmic transform makes those large points look in line with the rest: a raw value of 1000 becomes a value of 3 under log transform, and a raw value of 100 becomes a log-transformed value of 2"
   ]
  },
  {
   "cell_type": "markdown",
   "metadata": {},
   "source": [
    "This is where scale transformations are handy. In a scale transformation, the gaps between values are based on the transformed scale, but you can interpret data in the variable's natural units."
   ]
  },
  {
   "cell_type": "code",
   "execution_count": 24,
   "metadata": {},
   "outputs": [
    {
     "data": {
      "image/png": "[encoded data removed]",
      "text/plain": [
       "<Figure size 432x288 with 1 Axes>"
      ]
     },
     "metadata": {
      "needs_background": "light"
     },
     "output_type": "display_data"
    }
   ],
   "source": [
    "bin_edges = np.arange(0, pokemon['weight'].max() + 100, 100)\n",
    "plt.hist(pokemon['weight'], bins = bin_edges)\n",
    "plt.xscale('log')"
   ]
  },
  {
   "cell_type": "markdown",
   "metadata": {},
   "source": [
    "Notice two things about the plot now. Even though the data is on a log scale, the bins are still linearly spaced. This means that they change size from wide on the left to thin on the right, as the values increase multiplicatively. Secondly, the default label settings are still somewhat tricky to interpret, and are sparse as well."
   ]
  },
  {
   "cell_type": "markdown",
   "metadata": {},
   "source": [
    "To address the bin size issue, we just need to change them so that they are evenly-spaced powers of 10."
   ]
  },
  {
   "cell_type": "code",
   "execution_count": 25,
   "metadata": {},
   "outputs": [
    {
     "data": {
      "text/plain": [
       "([<matplotlib.axis.XTick at 0x1a22b517b8>,\n",
       "  <matplotlib.axis.XTick at 0x1a22b51dd8>,\n",
       "  <matplotlib.axis.XTick at 0x1a22b51b70>,\n",
       "  <matplotlib.axis.XTick at 0x1a22a9e2b0>,\n",
       "  <matplotlib.axis.XTick at 0x1a22a9e748>,\n",
       "  <matplotlib.axis.XTick at 0x1a22a9ec18>],\n",
       " <a list of 6 Text xticklabel objects>)"
      ]
     },
     "execution_count": 25,
     "metadata": {},
     "output_type": "execute_result"
    },
    {
     "data": {
      "image/png": "[encoded data removed]",
      "text/plain": [
       "<Figure size 432x288 with 1 Axes>"
      ]
     },
     "metadata": {
      "needs_background": "light"
     },
     "output_type": "display_data"
    }
   ],
   "source": [
    "bin_edges = 10 ** np.arange(0.8, np.log10(pokemon['weight'].max()+0.1), 0.1)\n",
    "plt.hist(pokemon['weight'], bins = bin_edges)\n",
    "plt.xscale('log')\n",
    "tick_locs = [10, 30, 100, 300, 1000, 3000]\n",
    "plt.xticks(tick_locs, tick_locs)"
   ]
  },
  {
   "cell_type": "markdown",
   "metadata": {},
   "source": [
    "the transformation implies that additive steps on the log scale will result in multiplicative changes in the natural scale, an important implication when it comes to data modeling. "
   ]
  },
  {
   "cell_type": "code",
   "execution_count": 26,
   "metadata": {},
   "outputs": [
    {
     "data": {
      "text/plain": [
       "([<matplotlib.axis.XTick at 0x1a235e0ac8>,\n",
       "  <matplotlib.axis.XTick at 0x1a235e0470>,\n",
       "  <matplotlib.axis.XTick at 0x1a235e0358>,\n",
       "  <matplotlib.axis.XTick at 0x1a2365c8d0>,\n",
       "  <matplotlib.axis.XTick at 0x1a2365cd68>],\n",
       " <a list of 5 Text xticklabel objects>)"
      ]
     },
     "execution_count": 26,
     "metadata": {},
     "output_type": "execute_result"
    },
    {
     "data": {
      "image/png": "[encoded data removed]",
      "text/plain": [
       "<Figure size 432x288 with 1 Axes>"
      ]
     },
     "metadata": {
      "needs_background": "light"
     },
     "output_type": "display_data"
    }
   ],
   "source": [
    "def sqrt_trans(x, inverse = False):\n",
    "    \"\"\" transformatio helper function \"\"\"\n",
    "    if not inverse:\n",
    "        return np.sqrt(x)\n",
    "    else:\n",
    "        return x ** 2\n",
    "    \n",
    "bin_edges = np.arange(0, sqrt_trans(pokemon['weight'].max())+1, 1)\n",
    "plt.hist(pokemon['weight'].apply(sqrt_trans), bins = bin_edges)\n",
    "\n",
    "tick_locs = np.arange(0, sqrt_trans(pokemon['weight'].max())+10, 10)\n",
    "plt.xticks(tick_locs, sqrt_trans(tick_locs, inverse = True).astype(int))\n"
   ]
  },
  {
   "cell_type": "code",
   "execution_count": null,
   "metadata": {},
   "outputs": [],
   "source": []
  }
 ],
 "metadata": {
  "kernelspec": {
   "display_name": "Python 3",
   "language": "python",
   "name": "python3"
  },
  "language_info": {
   "codemirror_mode": {
    "name": "ipython",
    "version": 3
   },
   "file_extension": ".py",
   "mimetype": "text/x-python",
   "name": "python",
   "nbconvert_exporter": "python",
   "pygments_lexer": "ipython3",
   "version": "3.7.2"
  }
 },
 "nbformat": 4,
 "nbformat_minor": 2
}

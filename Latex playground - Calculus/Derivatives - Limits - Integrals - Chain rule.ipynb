{
 "cells": [
  {
   "cell_type": "markdown",
   "metadata": {},
   "source": [
    "### Derivatives\n",
    "The derivative measures an instantaneous rate of change\n",
    "\n",
    "![](images/core_concepts.png)\n",
    "\n",
    "\n",
    "#### TODO: Add the rest of the screens\n",
    "\n"
   ]
  },
  {
   "cell_type": "markdown",
   "metadata": {},
   "source": [
    "### Derivatives throught geometry"
   ]
  },
  {
   "cell_type": "markdown",
   "metadata": {},
   "source": [
    "### The Chain rule"
   ]
  },
  {
   "cell_type": "markdown",
   "metadata": {},
   "source": [
    "### Derivatives of exponentials"
   ]
  },
  {
   "cell_type": "markdown",
   "metadata": {},
   "source": [
    "### Implicit differentiation\n",
    "\n",
    "$x^2 + y^2 = 5^2  =>  2xdx + 2ydy=0$\n",
    "\n",
    "![](images/implicit_differentiation.png)"
   ]
  },
  {
   "cell_type": "markdown",
   "metadata": {},
   "source": [
    "### Limits\n",
    "- Formal definition of a derivative\n",
    "![](images/formal_definition.png)\n",
    "\n",
    "\n",
    "- $(\\in\\delta)$ definition of limits\n",
    "![](images/e_delta.png)\n",
    "\n",
    "\n",
    "- L'Hôpital's rule\n",
    "![](images/lhopital_rule.png)"
   ]
  },
  {
   "cell_type": "markdown",
   "metadata": {},
   "source": [
    "### Integrals"
   ]
  },
  {
   "cell_type": "markdown",
   "metadata": {},
   "source": [
    "### Multivariable Chain Rule\n",
    "\n",
    "![](images/multivariable_chain_rule1.png)\n",
    "\n",
    "![](images/multivariable_chain_rule2.png)"
   ]
  },
  {
   "cell_type": "code",
   "execution_count": null,
   "metadata": {},
   "outputs": [],
   "source": []
  }
 ],
 "metadata": {
  "kernelspec": {
   "display_name": "Python 3",
   "language": "python",
   "name": "python3"
  },
  "language_info": {
   "codemirror_mode": {
    "name": "ipython",
    "version": 3
   },
   "file_extension": ".py",
   "mimetype": "text/x-python",
   "name": "python",
   "nbconvert_exporter": "python",
   "pygments_lexer": "ipython3",
   "version": "3.7.2"
  }
 },
 "nbformat": 4,
 "nbformat_minor": 2
}

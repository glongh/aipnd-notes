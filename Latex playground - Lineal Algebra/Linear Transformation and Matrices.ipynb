{
 "cells": [
  {
   "cell_type": "markdown",
   "metadata": {},
   "source": [
    "## Linear Transformation and Matrices"
   ]
  },
  {
   "cell_type": "markdown",
   "metadata": {},
   "source": [
    "Matrix disposition:\n",
    "![](images/matrix.png)"
   ]
  },
  {
   "cell_type": "markdown",
   "metadata": {},
   "source": [
    "### Matrix Addition\n",
    "To add one matrix to the other we need to:\n",
    "\n",
    "* Verify that the matrices are of the same dimensions\n",
    "* Make sure we add elements in the correct corresponding index.\n",
    "\n",
    "![](images/matrix_addition.png)"
   ]
  },
  {
   "cell_type": "markdown",
   "metadata": {},
   "source": [
    "### Scalar Multiplication of Matrix\n",
    "To multiply a matrix by a scalar, we do __not__ need to verify\n",
    "\n",
    "* Dimensions or\n",
    "* Indices\n",
    "\n",
    "Simply multiply each element in the matrix by the scalar!\n",
    "\n",
    "![](images/matrix_scalar_multiplication.png)"
   ]
  },
  {
   "cell_type": "markdown",
   "metadata": {},
   "source": [
    "### Multiplication of a Square Matrices\n"
   ]
  },
  {
   "cell_type": "markdown",
   "metadata": {},
   "source": [
    "When multiplying 2 matrices we need to consider the dimensions of each, as multiplication is not possible if the dimensions are not aligned appropriately.\n",
    "\n",
    "![](images/matrix_multi_square.png)"
   ]
  },
  {
   "cell_type": "markdown",
   "metadata": {},
   "source": [
    "Each element ```ij``` in ```PxQ``` is a result of multiplying all elements in row ```i``` of matrix ```P``` with the corresponding ```j``` elements in column ```j``` of matrix ```Q```."
   ]
  },
  {
   "cell_type": "markdown",
   "metadata": {},
   "source": [
    "![](images/matrix_multi_flow.png)"
   ]
  },
  {
   "cell_type": "markdown",
   "metadata": {},
   "source": [
    "if A is an n × m matrix and B is an m × p matrix, their matrix product AB is an n × p matrix, in which the m entries across a row of A are multiplied with the m entries down a column of B and summed to produce an entry of AB. When two linear transformations are represented by matrices, then the matrix product represents the composition of the two transformations.\n"
   ]
  },
  {
   "cell_type": "markdown",
   "metadata": {},
   "source": [
    "```\n",
    "Since A x B ≠ B x A we say they there are not commutative\n",
    "```\n",
    "\n",
    "The procedure is:\n",
    "\n",
    "![](images/matrix_multi_explained.png)\n"
   ]
  },
  {
   "cell_type": "markdown",
   "metadata": {},
   "source": [
    "### Visualizing lineal transformations"
   ]
  },
  {
   "cell_type": "markdown",
   "metadata": {},
   "source": [
    "As in one dimension, what makes a two-dimensional transformation linear is that it satisfies two properties\n",
    "\n",
    "$f(v+w) = f(v) + v(w)$\n",
    "\n",
    "$f(cv) = cf(v)$"
   ]
  },
  {
   "cell_type": "markdown",
   "metadata": {},
   "source": [
    "![](images/transformation.png)\n",
    "\n",
    "\n",
    "To calculate any vector $\\begin{bmatrix}x\\\\y\\end{bmatrix}$, you only need to know where  \n",
    "i and j lands\n",
    "\n",
    "ie:\n",
    "![](images/where_ij_lands.png)\n",
    "\n",
    "\n",
    "Two dimensional linear transformation is completely described by just four numbers: the two coordinates where i lands and the two coordinates where j lands\n",
    "\n",
    "![](images/where_ij_lands_2.png)\n",
    "\n",
    "![](images/idea_in_2x2_vector.png)\n",
    "\n",
    "\n",
    "Most general case:\n",
    "\n",
    "![](images/linear_understanding.png)\n",
    "\n",
    "You can put this as a matrix multiplication:\n",
    "\n",
    "![](images/linear_transformation_matrix_multi.png)\n",
    "\n",
    "\n",
    "```Everytime you see a matrix you can interpret it as a certain transformation of space```"
   ]
  },
  {
   "cell_type": "markdown",
   "metadata": {},
   "source": [
    "### Representing two dimensional linear transformas with matrices\n",
    "\n",
    "![](images/extra_linear_tranf.png)"
   ]
  },
  {
   "cell_type": "code",
   "execution_count": null,
   "metadata": {},
   "outputs": [],
   "source": []
  }
 ],
 "metadata": {
  "kernelspec": {
   "display_name": "Python 3",
   "language": "python",
   "name": "python3"
  },
  "language_info": {
   "codemirror_mode": {
    "name": "ipython",
    "version": 3
   },
   "file_extension": ".py",
   "mimetype": "text/x-python",
   "name": "python",
   "nbconvert_exporter": "python",
   "pygments_lexer": "ipython3",
   "version": "3.7.2"
  }
 },
 "nbformat": 4,
 "nbformat_minor": 2
}

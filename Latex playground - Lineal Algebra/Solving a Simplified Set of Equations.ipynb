{
 "cells": [
  {
   "cell_type": "markdown",
   "metadata": {},
   "source": [
    "## Solving a Simplified Set of Equations"
   ]
  },
  {
   "cell_type": "markdown",
   "metadata": {},
   "source": [
    "A linear combination of vector by scalars brings us to our next important topic: __A system of Linear Equations.__"
   ]
  },
  {
   "cell_type": "markdown",
   "metadata": {},
   "source": [
    "In a system of two linear equations with two unknowns, we have the following two vectors:\n",
    "\n",
    "$\\vec{x}$ = $\\begin{bmatrix}-14\\\\2\\\\ \\end{bmatrix}$\n",
    "\n",
    "$\\vec{y}$ = $\\begin{bmatrix}5\\\\-1\\\\ \\end{bmatrix}$ \n",
    "\n",
    "and we would like to represent a new vector: $\\begin{bmatrix}-13\\\\3\\\\\\end{bmatrix}$ as a linear combination of $\\vec{x}$ and $\\vec{y}$\n",
    "\n",
    "In other words, we are looking for a two scalars, let's call them a and b, that will hold the following equation:\n",
    "\n",
    "$a\\begin{bmatrix}-14\\\\2\\\\\\end{bmatrix} + b\\begin{bmatrix}5\\\\-1\\\\\\end{bmatrix}=\\begin{bmatrix}-13\\\\3\\\\\\end{bmatrix}$\n",
    "\n",
    "If we multiply a vector by a scalar, this will give us two separated equations:\n",
    "\n",
    "```-14a + 5b = -13```  and  ```2a - b = 3```\n",
    "\n",
    "The Above set of equations is referred to in literature as a set of two equations with two unknowns.\n",
    "\n",
    "This set can be solved using three theoretical methods:\n",
    "* Graphical method\n",
    "* Substitution method\n",
    "* Elimination method"
   ]
  },
  {
   "cell_type": "markdown",
   "metadata": {},
   "source": [
    "### Graphical solution\n",
    "Draw both lines (linear plots) and find the intersection.\n",
    "\n",
    "The intersection is the solution to  ```(a,b)``` as it is the only point on both lines. Or, in other words, it is the only point that satisfied both equations.\n",
    "\n",
    "![](images/graphical_solution.png)\n",
    "\n",
    "We can clearly see that:\n",
    "```a = -0.5``` and ```b = -4```"
   ]
  },
  {
   "cell_type": "markdown",
   "metadata": {},
   "source": [
    "### Subtitution\n",
    "Isolate a variable from one of the equations and substitute it in the second.\n",
    "This method will reduce our system of equations to a single equation with a single unknown.\n",
    "\n",
    "```\n",
    "(1) -14a + 5b = -13\n",
    "(2) 2a - b = 3\n",
    "```\n",
    "\n",
    "from (1)2a - b = 3 => ```b = 2a - 3```\n",
    "\n",
    "Substitute ```b``` in equation (2)\n",
    "\n",
    "-14a + 5(2a-3) = -13 and solve for ```a```.\n",
    "\n",
    "Simple algebra will result in ```a = -0.5```\n",
    "Substitute ```a``` in equation (1) or (2) above and you will find that ```b = -4```\n"
   ]
  },
  {
   "cell_type": "markdown",
   "metadata": {},
   "source": [
    "### Elimination\n",
    "In this method we will eliminate one variables, by enforcing the same absolute value to one of the scalars (o coefficients).\n",
    "\n",
    "Let's look at the equations again:\n",
    "```\n",
    "(1) -14a + 5b = -13\n",
    "(2) 2a - b = 3\n",
    "```\n",
    "\n",
    "if we multiply equation 2 by 5 we will have the following set of equations:\n",
    "\n",
    "```\n",
    "(1) -14a + 5b = -13\n",
    "(2) 10a - 5b = 15\n",
    "```\n",
    "__Note:__ The absolute value of the scalar multiplying ```b```, the coefficient of ```b```, is __5__ on both equations.\n",
    "\n",
    "Let's add them up.\n",
    "We will have the following single equation with a single unknown:\n",
    "\n",
    "```\n",
    "-4a + 0b = 2\n",
    "```\n",
    "__or__\n",
    "```\n",
    "-4a = 2 => a = -0.5\n",
    "```\n",
    "Substitute a in any of the equations and you will find that ```b = -4```\n"
   ]
  },
  {
   "cell_type": "markdown",
   "metadata": {},
   "source": [
    "### Infinite solutions\n",
    "```\n",
    "2a + 3b = -1\n",
    "10a + 15b = -5\n",
    "```\n",
    "The two equations here are __linearly dependent__, graphically they define the same line. Hence there are infinite number of solutions to the set of these equations. Basically, each point on the line satisfies the equation.\n",
    "\n",
    "![](images/infinite_solutions.png)\n"
   ]
  },
  {
   "cell_type": "markdown",
   "metadata": {},
   "source": [
    "### No solution\n",
    "```\n",
    "-a + 3b = 1\n",
    "-a + 3b = 5\n",
    "```\n",
    "\n",
    "![](images/no_solution1.png)\n",
    "\n",
    "Since these two line are in parallel, they do not intersect, therefore, there is no solution. (As there is not a point on the plot that will satisfy both equations simultaneously).\n",
    "\n",
    "As a comparison, the two lines in the plot below represent two independent linear equations with one solution. The solution will be the point on the graph (here in the blue x) satisfying both equations.\n",
    "\n",
    "![](images/no_solution2.png)\n",
    "\n"
   ]
  },
  {
   "cell_type": "markdown",
   "metadata": {},
   "source": [
    "### Graph from linear standard form\n",
    "\n",
    "![](images/graph_linear_std.png)"
   ]
  },
  {
   "cell_type": "code",
   "execution_count": null,
   "metadata": {},
   "outputs": [],
   "source": []
  }
 ],
 "metadata": {
  "kernelspec": {
   "display_name": "Python 3",
   "language": "python",
   "name": "python3"
  },
  "language_info": {
   "codemirror_mode": {
    "name": "ipython",
    "version": 3
   },
   "file_extension": ".py",
   "mimetype": "text/x-python",
   "name": "python",
   "nbconvert_exporter": "python",
   "pygments_lexer": "ipython3",
   "version": "3.7.2"
  }
 },
 "nbformat": 4,
 "nbformat_minor": 2
}

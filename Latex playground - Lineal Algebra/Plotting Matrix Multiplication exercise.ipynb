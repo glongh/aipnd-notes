{
 "cells": [
  {
   "cell_type": "markdown",
   "metadata": {
    "collapsed": true
   },
   "source": [
    "# Visualizing Matrix Multiplication Solutions\n",
    "\n",
    "Graphing Matrix Multiplication exercise:\n",
    "\n",
    "1. Computing and plotting a transformed vector using vectors $\\vec{\\hat{i_T}}$ and $\\vec{\\hat{j_T}}$.  \n",
    "&nbsp;    \n",
    "2. Demonstrating that the same vector transformation can be achieved with matrix multiplication.\n",
    "  \n",
    "    "
   ]
  },
  {
   "cell_type": "markdown",
   "metadata": {},
   "source": [
    "## TODO: Computing and Plotting *Transformed* Vector $\\vec{v_T}$ using Vectors $\\vec{\\hat{i_T}}$ and $\\vec{\\hat{j_T}}$\n",
    "For this part of the lab you will be creating *transformed* vectors $\\vec{\\hat{i_T}}$ and $\\vec{\\hat{j_T}}$ and using them to *transform* vector $\\vec{v}$ using *Equation 1* above. \n",
    "\n",
    "1. Define vector $\\vec{\\hat{i_T}}$ by replacing $x$ and $y$ with $3$ and $1$ (see *__TODO 1.:__*).  \n",
    "&nbsp; \n",
    "\n",
    "2. Define vector $\\vec{\\hat{j_T}}$ by replacing $x$ and $y$ with $1$ and $2$ (see *__TODO 2.:__*).  \n",
    "&nbsp; \n",
    "\n",
    "3. Define vector $\\vec{v_T}$ by adding vectors $\\vec{\\hat{i_T}}$ and $\\vec{\\hat{j_T}}$ (see *__TODO 3.:__*).  \n",
    "&nbsp; \n",
    "\n",
    "4. Plot vector $\\vec{v_T}$ by copying the _ax.arrow(...)_ statement for vector $\\vec{v}$ and changing _color = 'b'_ in the _ax.arrow(...)_ statement to plot vector $\\vec{v_T}$ as blue colored vector (see *__TODO 4.:__*).  \n",
    "&nbsp; \n"
   ]
  },
  {
   "cell_type": "code",
   "execution_count": 1,
   "metadata": {},
   "outputs": [
    {
     "data": {
      "image/png": "[encoded data removed]",
      "text/plain": [
       "<Figure size 432x288 with 1 Axes>"
      ]
     },
     "metadata": {
      "needs_background": "light"
     },
     "output_type": "display_data"
    }
   ],
   "source": [
    "# Import NumPy and Matplotlib - only needed for this lab solution notebook\n",
    "%matplotlib inline\n",
    "import numpy as np\n",
    "import matplotlib.pyplot as plt\n",
    "\n",
    "# Define vector v \n",
    "v = np.array([-1, 2])\n",
    "\n",
    "# DONE 1.: Define vector i_hat as transformed vector i_hat(ihat_t)\n",
    "# where x=3 and y=1 instead of x=1 and y=0\n",
    "ihat_t = np.array([3, 1])\n",
    "\n",
    "# DONE 2.: Define vector j_hat as transformed vector j_hat(jhat_t)\n",
    "# where x=1 and y=2 instead of x=0 and y=1\n",
    "jhat_t = np.array([1, 2])\n",
    "\n",
    "# Define v_ihat_t - as v[0](x) multiplied by transformed vector ihat\n",
    "v_ihat_t = v[0] * ihat_t\n",
    "\n",
    "# Define v_jhat_t - as v[1](y) multiplied by transformed vector jhat\n",
    "v_jhat_t = v[1] * jhat_t\n",
    "\n",
    "# DONE 3.: Define transformed vector v (v_t) as \n",
    "# vector v_ihat_t added to vector v_jhat_t\n",
    "v_t = v_ihat_t + v_jhat_t\n",
    "\n",
    "\n",
    "# Plot that graphically shows vector v (color='skyblue') can be transformed \n",
    "# into transformed vector v (v_trfm - color='b') by adding v[0]*transformed \n",
    "# vector ihat to v[0]*transformed vector jhat\n",
    "\n",
    "\n",
    "# Creates axes of plot referenced 'ax'\n",
    "ax = plt.axes()\n",
    "\n",
    "# Plots red dot at origin (0,0)\n",
    "ax.plot(0,0,'or')\n",
    "\n",
    "\n",
    "# Plots vector v_ihat_t as dotted green arrow starting at origin 0,0\n",
    "ax.arrow(0, 0, *v_ihat_t, color='g', linestyle='dotted', linewidth=2.5, head_width=0.30,\n",
    "         head_length=0.35)\n",
    "\n",
    "# Plots vector v_jhat_t as dotted red arrow starting at origin defined by v_ihat\n",
    "ax.arrow(v_ihat_t[0], v_ihat_t[1], *v_jhat_t, color='r', linestyle='dotted', linewidth=2.5,\n",
    "         head_width=0.30, head_length=0.35)\n",
    "\n",
    "# Plots vector v as blue arrow starting at origin 0,0\n",
    "ax.arrow(0, 0, *v, color='skyblue', linewidth=2.5, head_width=0.30, head_length=0.35)\n",
    "\n",
    "# DONE 4.: Plot transformed vector v (v_t) a blue colored vector(color='b') using \n",
    "# vector v's ax.arrow() statement above as template for the plot \n",
    "ax.arrow(0, 0, *v_t, color='b', linewidth=2.5, head_width=0.30, head_length=0.35)\n",
    "\n",
    "\n",
    "# Sets limit for plot for x-axis\n",
    "plt.xlim(-4, 2)\n",
    "\n",
    "# Set major ticks for x-axis\n",
    "major_xticks = np.arange(-4, 2)\n",
    "ax.set_xticks(major_xticks)\n",
    "\n",
    "\n",
    "# Sets limit for plot for y-axis\n",
    "plt.ylim(-2, 4)\n",
    "\n",
    "# Set major ticks for y-axis\n",
    "major_yticks = np.arange(-2, 4)\n",
    "ax.set_yticks(major_yticks)\n",
    "\n",
    "# Creates gridlines for only major tick marks\n",
    "plt.grid(b=True, which='major')\n",
    "\n",
    "# Displays final plot\n",
    "plt.show()"
   ]
  },
  {
   "cell_type": "markdown",
   "metadata": {},
   "source": [
    "## TODO: Matrix Multiplication\n",
    "For this part of the lab, define *__transformed__* vector **$\\vec{v_T}$** using the [function _**matmul**_](https://docs.scipy.org/doc/numpy-1.13.0/reference/generated/numpy.matmul.html) for multiplying 2x2 matrix **$\\vec{ij}$** and vector **$\\vec{v}$**.\n",
    "\n",
    "1. Replace **None** below with code that defines *__transformed__* vector **$\\vec{v_T}$** using the *__matmul__* function to multiply matrix **$\\vec{ij}$** and vector **$\\vec{v}$** (see *__TODO 1.__*)\n",
    "&nbsp; \n"
   ]
  },
  {
   "cell_type": "code",
   "execution_count": 2,
   "metadata": {},
   "outputs": [
    {
     "name": "stdout",
     "output_type": "stream",
     "text": [
      "\n",
      "Matrix ij:\n",
      "[[3 1]\n",
      " [1 2]]\n",
      "\n",
      "Vector v:\n",
      "[-1  2]\n",
      "\n",
      "Transformed Vector v_t:\n",
      "[-1  3]\n"
     ]
    }
   ],
   "source": [
    "# Define vector v \n",
    "v = np.array([-1,2])\n",
    "\n",
    "# Define 2x2 matrix ij\n",
    "ij = np.array([[3, 1],[1, 2]])\n",
    "\n",
    "# DONE 1.: Demonstrate getting v_trfm by matrix multiplication\n",
    "# by using matmul function to multiply 2x2 matrix ij by vector v\n",
    "# to compute the transformed vector v (v_t) \n",
    "v_t = np.matmul(ij, v)\n",
    "\n",
    "# Prints vectors v, ij, and v_t\n",
    "print(\"\\nMatrix ij:\", ij, \"\\nVector v:\", v, \"\\nTransformed Vector v_t:\", v_t, sep=\"\\n\")\n"
   ]
  },
  {
   "cell_type": "code",
   "execution_count": null,
   "metadata": {},
   "outputs": [],
   "source": []
  }
 ],
 "metadata": {
  "kernelspec": {
   "display_name": "Python 3",
   "language": "python",
   "name": "python3"
  },
  "language_info": {
   "codemirror_mode": {
    "name": "ipython",
    "version": 3
   },
   "file_extension": ".py",
   "mimetype": "text/x-python",
   "name": "python",
   "nbconvert_exporter": "python",
   "pygments_lexer": "ipython3",
   "version": "3.7.2"
  }
 },
 "nbformat": 4,
 "nbformat_minor": 2
}

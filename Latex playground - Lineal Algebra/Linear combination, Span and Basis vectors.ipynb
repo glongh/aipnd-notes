{
 "cells": [
  {
   "cell_type": "markdown",
   "metadata": {},
   "source": [
    "## Lineal combination\n",
    "$a\\vec{v}+b\\vec{w}$"
   ]
  },
  {
   "cell_type": "markdown",
   "metadata": {},
   "source": [
    "![](images/linear_combination.png)"
   ]
  },
  {
   "cell_type": "markdown",
   "metadata": {},
   "source": [
    "## Span\n",
    "The span of $\\vec{v}$ and $\\vec{w}$ is the set of all their lineal combinationas\n",
    "\n",
    "$a\\vec{v}+b\\vec{w}$"
   ]
  },
  {
   "cell_type": "markdown",
   "metadata": {},
   "source": [
    "![](images/span.png)"
   ]
  },
  {
   "cell_type": "markdown",
   "metadata": {},
   "source": [
    "Lineal combination of 3 vectors is basically the same:\n",
    "$a\\vec{v}+b\\vec{w}+c\\vec{u}$"
   ]
  },
  {
   "cell_type": "markdown",
   "metadata": {},
   "source": [
    "When you have multiple vectors and you could remove one without reducing the span (align with other vector) the relevant terminology is to say that they are __linearly dependent__"
   ]
  },
  {
   "cell_type": "markdown",
   "metadata": {},
   "source": [
    "$\\vec{u} = a\\vec{v}+b\\vec{w}$"
   ]
  },
  {
   "cell_type": "markdown",
   "metadata": {},
   "source": [
    "When each vector adds another dimension to the span, they area __linearly independent__"
   ]
  },
  {
   "cell_type": "markdown",
   "metadata": {},
   "source": [
    "$\\vec{w} \\ne a\\vec{v}$"
   ]
  },
  {
   "cell_type": "markdown",
   "metadata": {},
   "source": [
    "The ```basis``` of a vector space is a set of __linearly independent__ vectors that __span__ the full space"
   ]
  },
  {
   "cell_type": "markdown",
   "metadata": {},
   "source": [
    "![](images/basis_vectors.png)"
   ]
  },
  {
   "cell_type": "markdown",
   "metadata": {},
   "source": [
    "## Linear Combination and Span- Theoretical Definitions"
   ]
  },
  {
   "cell_type": "markdown",
   "metadata": {},
   "source": [
    "In general terms, the simple definition of a linear combination is a multication of a scalar to a variable and addition of those terms.\n",
    "\n",
    "For example:\n",
    "\n",
    "if x, y and z are variables, and $a_1, a_2$ and $a_3$ are scalars, \n",
    "the following equations will be a linear combination:\n",
    "\n",
    "$v = a_1x+a_2y+a_3z$"
   ]
  },
  {
   "cell_type": "markdown",
   "metadata": {},
   "source": [
    "In a linear algebra context our variables will be vectors: $\\vec{x}, \\vec{y}$ and $\\vec{z}$ are variables.\n",
    "The scalars remain the same: $a_1, a_2$ and $a_3$"
   ]
  },
  {
   "cell_type": "markdown",
   "metadata": {},
   "source": [
    "A linear combination of a scalar by a vector will be a new vector:\n",
    "\n",
    "$\\vec{v} = a_1\\vec{x}+a_2\\vec{y}+a_3\\vec{z}$"
   ]
  },
  {
   "cell_type": "markdown",
   "metadata": {},
   "source": [
    "![](images/linear_comb_scalars.png)"
   ]
  },
  {
   "cell_type": "markdown",
   "metadata": {},
   "source": [
    "A linear combination can be of a single addition, or (as shown in equation above) of any number of additions.\n",
    "\n",
    "The general notation of a vector by a scalar linear combination will be:\n",
    "$\\sum_{1}^na_i\\vec{v}_i$"
   ]
  },
  {
   "cell_type": "markdown",
   "metadata": {},
   "source": [
    "### What is the span?\n",
    "![](images/what_is_span.png)"
   ]
  },
  {
   "cell_type": "markdown",
   "metadata": {},
   "source": [
    "if $\\vec{v_1},\\vec{v_2}.....,\\vec{v_n} \\in \\mathbb{R}$ then\t"
   ]
  },
  {
   "cell_type": "markdown",
   "metadata": {},
   "source": [
    "the __Span__ of those vectors (sometimes also referred to as the Linear Span) is the set of all possible linear combinations of those vectors"
   ]
  },
  {
   "cell_type": "markdown",
   "metadata": {},
   "source": [
    "Mathematically, the span of the set of vectors $\\vec{v_1},\\vec{v_2},...,\\vec{v_n}$ is written as:\n",
    "\n",
    "Sp($\\vec{v_1},\\vec{v_2},...,\\vec{v_n}$)\n",
    "\n",
    "For example:\n",
    "\n",
    "The three following vectors: \n",
    "$\\vec{v_1}$ = $\\begin{bmatrix}1\\\\0\\\\0\\\\ \\end{bmatrix}$, \n",
    "$\\vec{v_2}$ = $\\begin{bmatrix}0\\\\1\\\\0\\\\ \\end{bmatrix}$ and\n",
    "$\\vec{v_3}$ = $\\begin{bmatrix}0\\\\0\\\\1\\\\ \\end{bmatrix}$ span any vector in $\\mathbb{R}^3$"
   ]
  },
  {
   "cell_type": "markdown",
   "metadata": {},
   "source": [
    "To prove that, we will take a random vector \n",
    "$\\vec{v}$ = $\\begin{bmatrix}p\\\\q\\\\t\\end{bmatrix}$\n",
    "and show that it can be generated as linear combination of vectors $\\vec{v_1}, \\vec{v_2}$ and $\\vec{v_3}$"
   ]
  },
  {
   "cell_type": "markdown",
   "metadata": {},
   "source": [
    "In a quick observation we can see that:\n",
    "$\\vec{v}$=\n",
    "$p\\begin{bmatrix}1\\\\0\\\\0\\end{bmatrix}$+\n",
    "$q\\begin{bmatrix}0\\\\1\\\\0\\end{bmatrix}$+\n",
    "$t\\begin{bmatrix}0\\\\0\\\\1\\end{bmatrix}$\n"
   ]
  },
  {
   "cell_type": "markdown",
   "metadata": {},
   "source": [
    "### Quiz 1"
   ]
  },
  {
   "cell_type": "markdown",
   "metadata": {},
   "source": [
    "__Which vectors above define a plane spanned by a linear combination?__\n",
    "\n",
    "$\\vec{v_1}$ = $\\begin{bmatrix}1\\\\2\\\\3\\\\ \\end{bmatrix}$\n",
    "\n",
    "$\\vec{v_2}$ = $\\begin{bmatrix}2\\\\2\\\\2\\\\ \\end{bmatrix}$\n",
    "\n",
    "$\\vec{v_3}$ = $\\begin{bmatrix}8\\\\8\\\\8\\\\ \\end{bmatrix}$ \n",
    "\n",
    "All three vectors are in $\\mathbb{R}^3$"
   ]
  },
  {
   "cell_type": "markdown",
   "metadata": {},
   "source": [
    "A Simple glance at vectors $\\vec{v_2}$ and $\\vec{v_3}$ will show you that one vector can be defined as a linear combination of the other.\n",
    "\n",
    "For example:\n",
    "$\\vec{v_2} = 0.25\\vec{v_3}$\n",
    "\n",
    "$\\begin{bmatrix}2\\\\2\\\\2\\end{bmatrix} = 0.25 \\begin{bmatrix}8\\\\8\\\\8\\end{bmatrix}$\n"
   ]
  },
  {
   "cell_type": "markdown",
   "metadata": {},
   "source": [
    "In other words, if we use $\\vec{v_2}$ as a part of our linear combination (for creating finding the vectors spanned), we do not need $\\vec{v_3}$. And vice versa: if we use $\\vec{v_3}$ as a part of our linear combination (for creating finding the vectors spanned), we do not need $\\vec{v_2}$.\n",
    "\n",
    "Therefore, to define the plane spanned by a linear combination of the vectors above, we need ($\\vec{v_2}$ an $\\vec{v_1}$) or ($\\vec{v_3}$ and $\\vec{v_1}$)"
   ]
  },
  {
   "cell_type": "markdown",
   "metadata": {},
   "source": [
    "### Linear Dependency"
   ]
  },
  {
   "cell_type": "markdown",
   "metadata": {},
   "source": [
    "$\\vec{v_2}$ = $\\begin{bmatrix}2\\\\2\\\\2\\\\ \\end{bmatrix}$\n",
    "\n",
    "$\\vec{v_3}$ = $\\begin{bmatrix}8\\\\8\\\\8\\\\ \\end{bmatrix}$ "
   ]
  },
  {
   "cell_type": "markdown",
   "metadata": {},
   "source": [
    "We can say that one vector can be derived from the other by a simple mathematical linear combination.\n",
    "For example: $4\\vec{v_2} == \\vec{v_3}$"
   ]
  },
  {
   "cell_type": "markdown",
   "metadata": {},
   "source": [
    "When one vector __can__ be defined as a linear combination of the other vectors, they are a set of __linearly dependent__ vectors. "
   ]
  },
  {
   "cell_type": "markdown",
   "metadata": {},
   "source": [
    "When each vector in a set of vectors vector __can not__ be defined as a linear combination of the other vectors, they are a set of __linearly independent__ vectors.\n",
    "\n"
   ]
  },
  {
   "cell_type": "markdown",
   "metadata": {},
   "source": [
    "* ${\\vec{v_2},\\vec{v_3}}$ is a linearly dependent set\n",
    "* ${\\vec{v_1},\\vec{v_2}}$ is a linearly independent set\n",
    "\n",
    "and\n",
    "\n",
    "* ${\\vec{v_1},\\vec{v_3}}$ is a linearly independent set"
   ]
  },
  {
   "cell_type": "markdown",
   "metadata": {},
   "source": [
    "The easiest way to know if a set of vectors is linear dependent or not, is with the use of determinants. "
   ]
  },
  {
   "cell_type": "code",
   "execution_count": null,
   "metadata": {},
   "outputs": [],
   "source": []
  }
 ],
 "metadata": {
  "kernelspec": {
   "display_name": "Python 3",
   "language": "python",
   "name": "python3"
  },
  "language_info": {
   "codemirror_mode": {
    "name": "ipython",
    "version": 3
   },
   "file_extension": ".py",
   "mimetype": "text/x-python",
   "name": "python",
   "nbconvert_exporter": "python",
   "pygments_lexer": "ipython3",
   "version": "3.7.2"
  }
 },
 "nbformat": 4,
 "nbformat_minor": 2
}
